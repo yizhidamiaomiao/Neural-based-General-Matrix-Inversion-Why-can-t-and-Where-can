{
 "cells": [
  {
   "cell_type": "code",
   "execution_count": 1,
   "metadata": {},
   "outputs": [],
   "source": [
    "import numpy as np\n",
    "from tqdm import tqdm\n",
    "import os"
   ]
  },
  {
   "cell_type": "code",
   "execution_count": 2,
   "metadata": {},
   "outputs": [],
   "source": [
    "dir_name = 'matrix_3_dataset'\n",
    "train_set_num = 10*10000\n",
    "test_set_num = 10000\n",
    "val_set_num = 10000\n",
    "epsilon = 0.01\n",
    "matrix_size = 3\n",
    "if not os.path.isdir(dir_name):\n",
    "    os.mkdir(dir_name)\n",
    "\n",
    "base_matrix = np.zeros((matrix_size,matrix_size), dtype=np.float64)\n",
    "base_matrix[0,:]=[1,1,1]\n",
    "base_matrix[1,:]=[1,2,3]\n",
    "base_matrix[2,:]=[1,2,4]"
   ]
  },
  {
   "cell_type": "code",
   "execution_count": 3,
   "metadata": {},
   "outputs": [],
   "source": [
    "def generate_data(num, save_path, matrix_size, base_matrix, epsilon=0.01):\n",
    "    temp_set = np.zeros((num,matrix_size,matrix_size,2), dtype=np.float64)\n",
    "    for i in tqdm(range(num)):\n",
    "        temp = np.random.rand(matrix_size,matrix_size).astype(np.float64)\n",
    "        temp = temp*2-1\n",
    "        # print(temp)\n",
    "        cur_matrix = base_matrix + epsilon*temp\n",
    "        temp_inv = np.linalg.inv(cur_matrix)\n",
    "        # print(temp_inv)\n",
    "    \n",
    "        temp_set[i, :,:,0] = temp[:,:]\n",
    "        temp_set[i, :,:,1] = temp_inv[:,:]\n",
    "    \n",
    "    np.save(save_path, temp_set)"
   ]
  },
  {
   "cell_type": "code",
   "execution_count": 4,
   "metadata": {},
   "outputs": [
    {
     "name": "stderr",
     "output_type": "stream",
     "text": [
      "100%|██████████| 100000/100000 [00:01<00:00, 68404.82it/s]\n"
     ]
    }
   ],
   "source": [
    "generate_data(train_set_num, dir_name+'/'+'train_set', matrix_size, base_matrix, epsilon)"
   ]
  },
  {
   "cell_type": "code",
   "execution_count": 5,
   "metadata": {},
   "outputs": [
    {
     "name": "stderr",
     "output_type": "stream",
     "text": [
      "100%|██████████| 10000/10000 [00:00<00:00, 64764.59it/s]\n"
     ]
    }
   ],
   "source": [
    "generate_data(val_set_num, dir_name+'/'+'val_set', matrix_size, base_matrix, epsilon)"
   ]
  },
  {
   "cell_type": "code",
   "execution_count": 6,
   "metadata": {},
   "outputs": [
    {
     "name": "stderr",
     "output_type": "stream",
     "text": [
      "100%|██████████| 10000/10000 [00:00<00:00, 63377.69it/s]\n"
     ]
    }
   ],
   "source": [
    "generate_data(test_set_num, dir_name+'/'+'test_set', matrix_size, base_matrix, epsilon)"
   ]
  },
  {
   "cell_type": "code",
   "execution_count": 7,
   "metadata": {},
   "outputs": [],
   "source": [
    "np.save(dir_name+'/'+'base_matrix', base_matrix)"
   ]
  },
  {
   "cell_type": "code",
   "execution_count": 8,
   "metadata": {},
   "outputs": [
    {
     "name": "stdout",
     "output_type": "stream",
     "text": [
      "[[-0.58017616  0.45820231  0.40544852]\n",
      " [-0.7288362   0.80770307  0.58045493]\n",
      " [ 0.39508998 -0.57429774 -0.76527452]]\n",
      "[[0.99419824 1.00458202 1.00405449]\n",
      " [0.99271164 2.00807703 3.00580455]\n",
      " [1.0039509  1.99425702 3.99234725]]\n",
      "[[ 1.97418376 -1.96022953  0.97934336]\n",
      " [-0.92293746  2.89028858 -1.94395993]\n",
      " [-0.03542003 -0.95082012  0.97525161]]\n"
     ]
    }
   ],
   "source": [
    "temp = np.random.rand(matrix_size,matrix_size).astype(np.float64)\n",
    "temp = temp*2-1\n",
    "cur_matrix = base_matrix + epsilon*temp\n",
    "temp_inv = np.linalg.inv(cur_matrix)\n",
    "print(temp)\n",
    "print(cur_matrix)\n",
    "print(temp_inv)"
   ]
  },
  {
   "cell_type": "code",
   "execution_count": 9,
   "metadata": {},
   "outputs": [
    {
     "name": "stdout",
     "output_type": "stream",
     "text": [
      "[[-0.58017616  0.45820231  0.40544852]\n",
      " [-0.7288362   0.80770307  0.58045493]\n",
      " [ 0.39508998 -0.57429774 -0.76527452]]\n",
      "[[1. 1. 1.]\n",
      " [1. 2. 3.]\n",
      " [1. 2. 4.]]\n",
      "[[ 2. -2.  1.]\n",
      " [-1.  3. -2.]\n",
      " [ 0. -1.  1.]]\n"
     ]
    }
   ],
   "source": [
    "cur_matrix = base_matrix\n",
    "temp_inv = np.linalg.inv(cur_matrix)\n",
    "print(temp)\n",
    "print(cur_matrix)\n",
    "print(temp_inv)"
   ]
  },
  {
   "cell_type": "code",
   "execution_count": null,
   "metadata": {},
   "outputs": [],
   "source": []
  }
 ],
 "metadata": {
  "kernelspec": {
   "display_name": "Python 3",
   "language": "python",
   "name": "python3"
  },
  "language_info": {
   "codemirror_mode": {
    "name": "ipython",
    "version": 3
   },
   "file_extension": ".py",
   "mimetype": "text/x-python",
   "name": "python",
   "nbconvert_exporter": "python",
   "pygments_lexer": "ipython3",
   "version": "3.8.5"
  }
 },
 "nbformat": 4,
 "nbformat_minor": 4
}
