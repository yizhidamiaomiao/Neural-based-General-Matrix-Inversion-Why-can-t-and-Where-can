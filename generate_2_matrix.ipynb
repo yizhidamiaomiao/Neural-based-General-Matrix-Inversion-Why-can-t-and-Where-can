{
 "cells": [
  {
   "cell_type": "code",
   "execution_count": 1,
   "metadata": {},
   "outputs": [],
   "source": [
    "import numpy as np\n",
    "from tqdm import tqdm"
   ]
  },
  {
   "cell_type": "code",
   "execution_count": 2,
   "metadata": {},
   "outputs": [],
   "source": [
    "dir_name = 'matrix_2_dataset'\n",
    "train_set_num = 100*10000\n",
    "test_set_num = 10000\n",
    "val_set_num = 10000\n",
    "epsilon = 0.01\n",
    "matrix_size = 2\n",
    "\n",
    "\n",
    "base_matrix = np.zeros((matrix_size,matrix_size), dtype=np.float64)\n",
    "base_matrix[0,0]=2\n",
    "base_matrix[0,1]=2\n",
    "base_matrix[1,0]=2\n",
    "base_matrix[1,1]=3"
   ]
  },
  {
   "cell_type": "code",
   "execution_count": 3,
   "metadata": {},
   "outputs": [],
   "source": [
    "def generate_data(num, save_path, matrix_size, base_matrix, epsilon=0.01):\n",
    "    temp_set = np.zeros((num,matrix_size,matrix_size,2), dtype=np.float64)\n",
    "    for i in tqdm(range(num)):\n",
    "        temp = np.random.rand(matrix_size,matrix_size).astype(np.float64)\n",
    "        temp = temp*2-1\n",
    "        # print(temp)\n",
    "        cur_matrix = base_matrix + epsilon*temp\n",
    "        temp_inv = np.linalg.inv(cur_matrix)\n",
    "        # print(temp_inv)\n",
    "    \n",
    "        temp_set[i, :,:,0] = temp[:,:]\n",
    "        temp_set[i, :,:,1] = temp_inv[:,:]\n",
    "    \n",
    "    np.save(save_path, temp_set)"
   ]
  },
  {
   "cell_type": "code",
   "execution_count": 4,
   "metadata": {},
   "outputs": [
    {
     "name": "stderr",
     "output_type": "stream",
     "text": [
      "100%|██████████| 1000000/1000000 [00:14<00:00, 68699.34it/s]\n"
     ]
    }
   ],
   "source": [
    "generate_data(train_set_num, dir_name+'/'+'train_set', matrix_size, base_matrix, epsilon)"
   ]
  },
  {
   "cell_type": "code",
   "execution_count": 5,
   "metadata": {},
   "outputs": [
    {
     "name": "stderr",
     "output_type": "stream",
     "text": [
      "100%|██████████| 10000/10000 [00:00<00:00, 65589.70it/s]\n"
     ]
    }
   ],
   "source": [
    "generate_data(val_set_num, dir_name+'/'+'val_set', matrix_size, base_matrix, epsilon)"
   ]
  },
  {
   "cell_type": "code",
   "execution_count": 6,
   "metadata": {},
   "outputs": [
    {
     "name": "stderr",
     "output_type": "stream",
     "text": [
      "100%|██████████| 10000/10000 [00:00<00:00, 67306.69it/s]\n"
     ]
    }
   ],
   "source": [
    "generate_data(test_set_num, dir_name+'/'+'test_set', matrix_size, base_matrix, epsilon)"
   ]
  },
  {
   "cell_type": "code",
   "execution_count": 7,
   "metadata": {},
   "outputs": [],
   "source": [
    "np.save(dir_name+'/'+'base_matrix', base_matrix)"
   ]
  },
  {
   "cell_type": "code",
   "execution_count": 8,
   "metadata": {},
   "outputs": [
    {
     "name": "stdout",
     "output_type": "stream",
     "text": [
      "[[-0.11393212  0.77369498]\n",
      " [ 0.11582734  0.14287818]]\n",
      "[[1.99886068 2.00773695]\n",
      " [2.00115827 3.00142878]]\n",
      "[[ 1.51461969 -1.0131701 ]\n",
      " [-1.00985029  1.00869085]]\n"
     ]
    }
   ],
   "source": [
    "temp = np.random.rand(matrix_size,matrix_size).astype(np.float64)\n",
    "temp = temp*2-1\n",
    "cur_matrix = base_matrix + epsilon*temp\n",
    "temp_inv = np.linalg.inv(cur_matrix)\n",
    "print(temp)\n",
    "print(cur_matrix)\n",
    "print(temp_inv)"
   ]
  },
  {
   "cell_type": "code",
   "execution_count": 9,
   "metadata": {},
   "outputs": [
    {
     "name": "stdout",
     "output_type": "stream",
     "text": [
      "[[-0.11393212  0.77369498]\n",
      " [ 0.11582734  0.14287818]]\n",
      "[[2. 2.]\n",
      " [2. 3.]]\n",
      "[[ 1.5 -1. ]\n",
      " [-1.   1. ]]\n"
     ]
    }
   ],
   "source": [
    "cur_matrix = base_matrix\n",
    "temp_inv = np.linalg.inv(cur_matrix)\n",
    "print(temp)\n",
    "print(cur_matrix)\n",
    "print(temp_inv)"
   ]
  },
  {
   "cell_type": "code",
   "execution_count": null,
   "metadata": {},
   "outputs": [],
   "source": []
  }
 ],
 "metadata": {
  "kernelspec": {
   "display_name": "Python 3",
   "language": "python",
   "name": "python3"
  },
  "language_info": {
   "codemirror_mode": {
    "name": "ipython",
    "version": 3
   },
   "file_extension": ".py",
   "mimetype": "text/x-python",
   "name": "python",
   "nbconvert_exporter": "python",
   "pygments_lexer": "ipython3",
   "version": "3.8.5"
  }
 },
 "nbformat": 4,
 "nbformat_minor": 4
}
