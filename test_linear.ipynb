{
 "cells": [
  {
   "cell_type": "code",
   "execution_count": 1,
   "metadata": {},
   "outputs": [],
   "source": [
    "import torch\n",
    "import torch.nn as nn\n",
    "import torch.nn.functional as F\n",
    "import torch.optim as optim\n",
    "from torch.autograd import Variable\n",
    "from torch.utils.data import Dataset, DataLoader\n",
    "import numpy as np\n",
    "from torch.utils.tensorboard import SummaryWriter\n",
    "from torch.optim.lr_scheduler import CosineAnnealingWarmRestarts"
   ]
  },
  {
   "cell_type": "code",
   "execution_count": 2,
   "metadata": {},
   "outputs": [],
   "source": [
    "batch_size = 128\n",
    "epoch = 20\n",
    "# tensorboard_writer = SummaryWriter()\n",
    "epsilon=0.01\n",
    "T_0 =3\n",
    "T_mult=2\n",
    "eta_min = 1e-6"
   ]
  },
  {
   "cell_type": "code",
   "execution_count": 3,
   "metadata": {},
   "outputs": [],
   "source": [
    "class CustomDataset(Dataset):\n",
    "\n",
    "    def __init__(self, root_dir):\n",
    "        self.dataset = np.load(root_dir)\n",
    "        print('number of data points', self.dataset.shape[0])\n",
    "\n",
    "    def __len__(self):\n",
    "        return self.dataset.shape[0]\n",
    "\n",
    "    def __getitem__(self, idx):\n",
    "        if torch.is_tensor(idx):\n",
    "            idx = idx.tolist()\n",
    "        x = self.dataset[idx, :,:,0]\n",
    "        y = self.dataset[idx, :,:,1]\n",
    "        return x,y"
   ]
  },
  {
   "cell_type": "code",
   "execution_count": 4,
   "metadata": {},
   "outputs": [
    {
     "name": "stdout",
     "output_type": "stream",
     "text": [
      "number of data points 1000000\n",
      "number of data points 10000\n"
     ]
    }
   ],
   "source": [
    "train_set = CustomDataset('matrix_2_dataset/train_set.npy')\n",
    "val_set = CustomDataset('matrix_2_dataset/val_set.npy')\n",
    "train_loader = torch.utils.data.DataLoader(\n",
    "    train_set,\n",
    "    batch_size=batch_size, shuffle=True)\n",
    "val_loader = torch.utils.data.DataLoader(\n",
    "    val_set,\n",
    "    batch_size=batch_size)"
   ]
  },
  {
   "cell_type": "code",
   "execution_count": 9,
   "metadata": {},
   "outputs": [
    {
     "name": "stdout",
     "output_type": "stream",
     "text": [
      "test 0.34058353734560676\n",
      "linear 0.3399165530296715\n",
      "target 0.34058353734554014 \n",
      "\n",
      "test 1.1474247167015283\n",
      "linear 1.1359026744430605\n",
      "target 1.1474247167015061 \n",
      "\n",
      "test -0.5033391239472662\n",
      "linear -0.5050797018541915\n",
      "target -0.503339123947244 \n",
      "\n",
      "test -0.9053894516602101\n",
      "linear -0.9133210509990004\n",
      "target -0.9053894516602101 \n",
      "\n",
      "test -0.6063721622104667\n",
      "linear -0.610209164663111\n",
      "target -0.6063721622104445 \n",
      "\n"
     ]
    }
   ],
   "source": [
    "A=3\n",
    "B=4\n",
    "C=1\n",
    "D=2\n",
    "matrix_norm = A*D-B*C\n",
    "\n",
    "train_accu = 0\n",
    "i = 1\n",
    "for data, target in val_loader:\n",
    "    target = target - torch.tensor([[[1,-2],[-0.5,1.5]]])\n",
    "    target = target/epsilon\n",
    "    output = np.zeros((batch_size, 2,2), dtype=np.float64)\n",
    "    for i in range(5):\n",
    "        a = data[i,0,0]*epsilon\n",
    "        b = data[i,0,1]*epsilon\n",
    "        c = data[i,1,0]*epsilon\n",
    "        d = data[i,1,1]*epsilon\n",
    "        output[i,0,0] = d/matrix_norm - D*(D*a+A*d-B*c-C*b)/(matrix_norm**2)\n",
    "        output[i,0,0] = output[i,0,0]/epsilon\n",
    "        test = (D+d)/(matrix_norm+D*a+A*d+a*d-B*c-C*b-b*c)\n",
    "        test = (test-1)/epsilon\n",
    "        print('test', test.numpy())\n",
    "        print('linear', output[i,0,0])\n",
    "        print('target', target.view(-1,4)[i,0].numpy(),'\\n')\n",
    "    break"
   ]
  },
  {
   "cell_type": "code",
   "execution_count": null,
   "metadata": {},
   "outputs": [],
   "source": []
  }
 ],
 "metadata": {
  "kernelspec": {
   "display_name": "Python 3",
   "language": "python",
   "name": "python3"
  },
  "language_info": {
   "codemirror_mode": {
    "name": "ipython",
    "version": 3
   },
   "file_extension": ".py",
   "mimetype": "text/x-python",
   "name": "python",
   "nbconvert_exporter": "python",
   "pygments_lexer": "ipython3",
   "version": "3.8.5"
  }
 },
 "nbformat": 4,
 "nbformat_minor": 4
}
