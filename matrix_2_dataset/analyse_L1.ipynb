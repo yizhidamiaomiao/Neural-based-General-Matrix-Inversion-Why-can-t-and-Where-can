{
 "cells": [
  {
   "cell_type": "code",
   "execution_count": 1,
   "metadata": {},
   "outputs": [],
   "source": [
    "import torch\n",
    "import torch.nn as nn\n",
    "import torch.nn.functional as F\n",
    "import torch.optim as optim\n",
    "from torch.autograd import Variable\n",
    "from torch.utils.data import Dataset, DataLoader\n",
    "import numpy as np\n",
    "from torch.utils.tensorboard import SummaryWriter\n",
    "from torch.optim.lr_scheduler import CosineAnnealingWarmRestarts\n",
    "from tqdm import tqdm"
   ]
  },
  {
   "cell_type": "code",
   "execution_count": 2,
   "metadata": {},
   "outputs": [],
   "source": [
    "batch_size = 128\n",
    "# epoch = 20\n",
    "# tensorboard_writer = SummaryWriter()\n",
    "T_0 =3\n",
    "T_mult=2\n",
    "eta_min = 1e-6\n",
    "epsilon = 0.01\n",
    "base_matrix = [[[ 2, 2 ],[2,   3 ]]]\n",
    "inv_base_matrix = [[[ 1.5, -1. ],[-1.,   1. ]]]"
   ]
  },
  {
   "cell_type": "code",
   "execution_count": 3,
   "metadata": {},
   "outputs": [
    {
     "data": {
      "text/plain": [
       "BaseModel(\n",
       "  (fc1): Linear(in_features=4, out_features=8, bias=True)\n",
       "  (fc3): Linear(in_features=8, out_features=4, bias=True)\n",
       ")"
      ]
     },
     "execution_count": 3,
     "metadata": {},
     "output_type": "execute_result"
    }
   ],
   "source": [
    "\n",
    "\n",
    "class BaseModel(nn.Module):\n",
    "    def __init__(self):\n",
    "        super(BaseModel, self).__init__()\n",
    "        self.fc1 = nn.Linear(4,8)\n",
    "        self.fc3 = nn.Linear(8, 4)\n",
    "        \n",
    "    def forward(self, x):\n",
    "        x = x.view(-1, 4)   # reshape Variable\n",
    "        x = F.relu(self.fc1(x))\n",
    "#         x = F.dropout(x, 0.1)\n",
    "        x = self.fc3(x)\n",
    "        return x\n",
    "    \n",
    "model = BaseModel()\n",
    "model = model.to(torch.double)\n",
    "model = model.to('cuda') \n",
    "model.train()\n",
    "model"
   ]
  },
  {
   "cell_type": "code",
   "execution_count": 4,
   "metadata": {},
   "outputs": [],
   "source": [
    "class CustomDataset(Dataset):\n",
    "\n",
    "    def __init__(self, root_dir):\n",
    "        self.dataset = np.load(root_dir)\n",
    "        print('number of data points', self.dataset.shape[0])\n",
    "\n",
    "    def __len__(self):\n",
    "        return self.dataset.shape[0]\n",
    "\n",
    "    def __getitem__(self, idx):\n",
    "        if torch.is_tensor(idx):\n",
    "            idx = idx.tolist()\n",
    "        x = self.dataset[idx, :,:,0]\n",
    "        y = self.dataset[idx, :,:,1]\n",
    "        return x,y"
   ]
  },
  {
   "cell_type": "code",
   "execution_count": 5,
   "metadata": {},
   "outputs": [
    {
     "name": "stdout",
     "output_type": "stream",
     "text": [
      "number of data points 1000000\n",
      "number of data points 10000\n"
     ]
    }
   ],
   "source": [
    "train_set = CustomDataset('train_set.npy')\n",
    "val_set = CustomDataset('val_set.npy')\n",
    "train_loader = torch.utils.data.DataLoader(\n",
    "    train_set,\n",
    "    batch_size=batch_size, shuffle=True)\n",
    "val_loader = torch.utils.data.DataLoader(\n",
    "    val_set,\n",
    "    batch_size=batch_size)"
   ]
  },
  {
   "cell_type": "code",
   "execution_count": 6,
   "metadata": {},
   "outputs": [
    {
     "data": {
      "text/plain": [
       "[Parameter containing:\n",
       " tensor([[ 2.9422e-17, -1.0965e-16, -1.0821e-16, -2.9642e-16],\n",
       "         [ 9.5628e-02,  2.9369e-01,  5.3154e-02, -4.4647e-01],\n",
       "         [ 2.5575e-18, -5.1115e-18,  3.6952e-16,  5.6182e-16],\n",
       "         [ 1.5360e+00, -1.2078e+00, -7.5969e-01,  6.3958e-01],\n",
       "         [-3.6153e-01, -4.7281e-02,  4.6443e-01, -3.2432e-01],\n",
       "         [ 3.5525e-01, -1.8960e-01, -6.1029e-01,  1.3732e-01],\n",
       "         [-1.2802e+00,  1.0202e+00,  6.6826e-01, -5.6571e-01],\n",
       "         [-6.5787e-01,  4.8745e-01,  2.9334e-01, -2.2843e-01]], device='cuda:0',\n",
       "        dtype=torch.float64, requires_grad=True),\n",
       " Parameter containing:\n",
       " tensor([-6.6458e-15,  7.9882e-01, -7.6495e-15, -2.4201e-01,  1.0407e+00,\n",
       "          1.2244e+00,  1.9913e-01,  9.9282e-02], device='cuda:0',\n",
       "        dtype=torch.float64, requires_grad=True),\n",
       " Parameter containing:\n",
       " tensor([[ 1.6707e-17, -7.5081e-02,  6.4202e-17, -1.1650e+00,  5.8385e-01,\n",
       "          -5.0147e-01,  1.1485e+00,  6.6387e-01],\n",
       "         [ 5.9550e-19, -8.2578e-01, -8.3030e-17,  9.2669e-01,  1.7431e-01,\n",
       "           4.8691e-01, -1.0013e+00, -3.4407e-01],\n",
       "         [ 5.2546e-19, -4.9190e-01,  1.1077e-16,  5.3894e-01, -8.0408e-01,\n",
       "           1.0796e+00, -6.3829e-01, -1.4140e-01],\n",
       "         [ 3.4257e-17,  1.0662e+00,  7.4169e-18, -4.5637e-01,  3.7282e-01,\n",
       "          -6.5138e-01,  5.4483e-01,  1.0231e-01]], device='cuda:0',\n",
       "        dtype=torch.float64, requires_grad=True),\n",
       " Parameter containing:\n",
       " tensor([-0.2385,  0.1237,  0.0551, -0.5657], device='cuda:0',\n",
       "        dtype=torch.float64, requires_grad=True)]"
      ]
     },
     "execution_count": 6,
     "metadata": {},
     "output_type": "execute_result"
    }
   ],
   "source": [
    "model.load_state_dict(torch.load('small_1.pth'))\n",
    "list(model.parameters())"
   ]
  },
  {
   "cell_type": "code",
   "execution_count": 7,
   "metadata": {},
   "outputs": [],
   "source": [
    "W1 = model.fc1.weight.data.to('cpu').numpy()\n",
    "b1 = model.fc1.bias.data.to('cpu').numpy()\n",
    "W2 = model.fc3.weight.data.to('cpu').numpy()\n",
    "b2 = model.fc3.bias.data.to('cpu').numpy()"
   ]
  },
  {
   "cell_type": "code",
   "execution_count": 13,
   "metadata": {},
   "outputs": [
    {
     "name": "stderr",
     "output_type": "stream",
     "text": [
      "100%|██████████| 79/79 [00:00<00:00, 513.12it/s]"
     ]
    },
    {
     "name": "stdout",
     "output_type": "stream",
     "text": [
      "7.093920595790846e-05\n"
     ]
    },
    {
     "name": "stderr",
     "output_type": "stream",
     "text": [
      "\n"
     ]
    }
   ],
   "source": [
    "# analyse a11\n",
    "# target: 1.5- 2.25a+ 1.5b+ 1.5c- d\n",
    "datapoint=1\n",
    "total_error = 0\n",
    "total_number = 0 \n",
    "for data, target in tqdm(val_loader):\n",
    "    target = target - torch.tensor(inv_base_matrix)\n",
    "    target = target/epsilon\n",
    "    \n",
    "    data, target = Variable(data), Variable(target)\n",
    "#     data = data*epsilon\n",
    "    data = data.to('cuda')\n",
    "#     target = target.to('cuda')\n",
    "    output = model(data)\n",
    "    output = output.detach().to('cpu')\n",
    "#     output = output/epsilon\n",
    "    total_error += torch.sum(torch.abs(output[:,:] - target.view(-1,4)[:,:]))*epsilon\n",
    "    total_number += output.shape[0]*output.shape[1]\n",
    "\n",
    "print(total_error.numpy()/total_number)"
   ]
  },
  {
   "cell_type": "markdown",
   "metadata": {},
   "source": [
    "####\n",
    "\n",
    "model 1 test error: 7.093920595790846e-05\n",
    "model 2 test error: 6.564070982629774e-05\n",
    "model 3 test error: 6.788916144246224e-05"
   ]
  },
  {
   "cell_type": "code",
   "execution_count": 14,
   "metadata": {},
   "outputs": [
    {
     "name": "stdout",
     "output_type": "stream",
     "text": [
      "6.815635907555616e-05\n",
      "4.7147074970144515e-12\n"
     ]
    }
   ],
   "source": [
    "temp = [7.093920595790846e-05, 6.564070982629774e-05,6.788916144246224e-05]\n",
    "print(np.mean(temp))\n",
    "print(np.var(temp))"
   ]
  },
  {
   "cell_type": "code",
   "execution_count": 27,
   "metadata": {},
   "outputs": [
    {
     "name": "stderr",
     "output_type": "stream",
     "text": [
      "100%|██████████| 79/79 [00:00<00:00, 322.13it/s]"
     ]
    },
    {
     "name": "stdout",
     "output_type": "stream",
     "text": [
      "0.00023209933031373393\n"
     ]
    },
    {
     "name": "stderr",
     "output_type": "stream",
     "text": [
      "\n"
     ]
    }
   ],
   "source": [
    "# analyse a11\n",
    "# target: 1.5- 2.25a+ 1.5b+ 1.5c- d\n",
    "datapoint=1\n",
    "total_error = 0\n",
    "total_number = 0 \n",
    "for data, target in tqdm(val_loader):\n",
    "    target = target - torch.tensor(inv_base_matrix)\n",
    "    target = target/epsilon\n",
    "    \n",
    "    data, target = Variable(data), Variable(target)\n",
    "    \n",
    "    output = torch.zeros((target.shape[0],4)).double()\n",
    "    a = data.view(-1, 4)[:,0]\n",
    "    b = data.view(-1, 4)[:,1]\n",
    "    c = data.view(-1, 4)[:,2]\n",
    "    d = data.view(-1, 4)[:,3]\n",
    "    output[:,0] = -2.25*a + 1.5* b+ 1.5*c- d\n",
    "    output[:,1] =  1.5*a- 1.5*b-c+d\n",
    "    output[:,2] =  1.5*a- b-1.5*c+d\n",
    "    output[:,3] =   - a + b+ c-  d\n",
    "    data = data.to('cuda')\n",
    "    neural = model(data).detach().to('cpu')\n",
    "#     total_error += torch.sum(torch.abs(output[:,:] - target.view(-1,4)[:,:]))*epsilon\n",
    "    total_error += torch.sum(torch.abs(output[:,:] - neural.view(-1,4)[:,:]))*epsilon\n",
    "    total_number += output.shape[0]*output.shape[1]\n",
    "#     print(output[:5,:])\n",
    "#     print(target[:5,:])\n",
    "#     break\n",
    "\n",
    "print(total_error.numpy()/total_number)"
   ]
  },
  {
   "cell_type": "code",
   "execution_count": null,
   "metadata": {},
   "outputs": [],
   "source": []
  }
 ],
 "metadata": {
  "kernelspec": {
   "display_name": "Python 3",
   "language": "python",
   "name": "python3"
  },
  "language_info": {
   "codemirror_mode": {
    "name": "ipython",
    "version": 3
   },
   "file_extension": ".py",
   "mimetype": "text/x-python",
   "name": "python",
   "nbconvert_exporter": "python",
   "pygments_lexer": "ipython3",
   "version": "3.8.5"
  }
 },
 "nbformat": 4,
 "nbformat_minor": 4
}
